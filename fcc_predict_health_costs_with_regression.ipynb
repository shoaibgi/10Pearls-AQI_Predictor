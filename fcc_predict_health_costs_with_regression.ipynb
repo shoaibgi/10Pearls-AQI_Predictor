{
  "cells": [
    {
      "cell_type": "code",
      "execution_count": null,
      "metadata": {
        "id": "1rRo8oNqZ-Rj"
      },
      "outputs": [],
      "source": [
        "# Import libraries. You may or may not use all of these.\n",
        "!pip install -q git+https://github.com/tensorflow/docs\n",
        "import matplotlib.pyplot as plt\n",
        "import numpy as np\n",
        "import pandas as pd\n",
        "\n",
        "try:\n",
        "  # %tensorflow_version only exists in Colab.\n",
        "  %tensorflow_version 2.x\n",
        "except Exception:\n",
        "  pass\n",
        "import tensorflow as tf\n",
        "\n",
        "from tensorflow import keras\n",
        "from tensorflow.keras import layers\n",
        "\n",
        "import tensorflow_docs as tfdocs\n",
        "import tensorflow_docs.plots\n",
        "import tensorflow_docs.modeling\n",
        "import seaborn as sns"
      ]
    },
    {
      "cell_type": "code",
      "execution_count": null,
      "metadata": {
        "id": "CiX2FI4gZtTt"
      },
      "outputs": [],
      "source": [
        "# Import data\n",
        "!wget https://cdn.freecodecamp.org/project-data/health-costs/insurance.csv\n",
        "dataset = pd.read_csv('insurance.csv')\n",
        "dataset.tail()"
      ]
    },
    {
      "cell_type": "code",
      "execution_count": null,
      "metadata": {
        "id": "LcopvQh3X-kX"
      },
      "outputs": [],
      "source": [
        "df=dataset.copy()\n",
        "df.head()"
      ]
    },
    {
      "cell_type": "code",
      "source": [
        "# Any necessity to impute any value?\n",
        "df.isna()\\\n",
        "  .sum()\n",
        ""
      ],
      "metadata": {
        "id": "J2SI0nVRwMDr"
      },
      "execution_count": null,
      "outputs": []
    },
    {
      "cell_type": "code",
      "source": [
        "# One-hot encode categorical values to be parsed as numerical ones\n",
        "categoricals = ['sex', 'smoker', 'region']\n",
        "df = dataset.copy() # Start with a fresh copy of the original dataset\n",
        "df = pd.get_dummies(df, columns = categoricals, drop_first = False)\n",
        "df.head()"
      ],
      "metadata": {
        "id": "JIjuRqVKzmiP"
      },
      "execution_count": null,
      "outputs": []
    },
    {
      "cell_type": "code",
      "source": [
        "train_dataset=df.sample(frac=0.8,random_state=42)\n",
        "test_dataset=df.drop(train_dataset.index)\n",
        "\n",
        "train_labels=train_dataset.pop('expenses')\n",
        "test_labels=test_dataset.pop('expenses')"
      ],
      "metadata": {
        "id": "Xwx8fSycxGKC"
      },
      "execution_count": null,
      "outputs": []
    },
    {
      "cell_type": "code",
      "source": [
        "smoker_counts = df['smoker_yes'].value_counts()\n",
        "plt.figure(figsize=(5, 5))\n",
        "plt.pie(smoker_counts, labels=smoker_counts.index, autopct='%1.1f%%', colors=sns.color_palette('pastel'))\n",
        "plt.title(\"Smoker Distribution\")\n",
        "plt.show()"
      ],
      "metadata": {
        "id": "1qHuSdcU85gm"
      },
      "execution_count": null,
      "outputs": []
    },
    {
      "cell_type": "code",
      "source": [
        "#Add output layers\n",
        "input_shape=len(train_dataset.keys())\n",
        "model=keras.Sequential(\n",
        "    [\n",
        "    layers.Dense(128,\n",
        "                 activation = 'relu',\n",
        "                 input_shape = [input_shape]),\n",
        "    layers.Dense(64, activation = 'relu'),\n",
        "    layers.Dense(64, activation = 'relu'),\n",
        "    layers.Dense(32, activation = 'relu'),\n",
        "    layers.Dense(32, activation = 'relu'),\n",
        "    layers.Dense(16, activation = 'relu'),\n",
        "    layers.Dense(1, activation = 'relu')\n",
        "\n",
        "    ]\n",
        ")\n",
        "optimizer = tf.keras.optimizers.Adam(\n",
        "    learning_rate = .008\n",
        ")\n",
        "\n",
        "model.compile(loss = 'mae',\n",
        "              optimizer = optimizer,\n",
        "              metrics = ['mae',\n",
        "                         'mse'])\n",
        "\n",
        "model.summary()"
      ],
      "metadata": {
        "id": "fj1ZAKx4z-o4"
      },
      "execution_count": null,
      "outputs": []
    },
    {
      "cell_type": "code",
      "source": [
        "EPOCHS = 500\n",
        "checkpoint_filepath = './tmp/ckpt/fcchealthcosts.model.keras'\n",
        "\n",
        "checkpoint_callback  = [tf.keras.callbacks\\\n",
        "                        .ModelCheckpoint(filepath = checkpoint_filepath,\n",
        "                                         monitor = 'val_loss',\n",
        "                                         verbose = 1,\n",
        "                                         save_best_only = True,\n",
        "                                         mode = 'min'\n",
        "                                         )\n",
        "]\n",
        "\n",
        "history = model.fit(train_dataset,\n",
        "                    train_labels,\n",
        "                    epochs = EPOCHS,\n",
        "                    verbose = 1,\n",
        "                    validation_split = .2,\n",
        "                    shuffle = False,\n",
        "                    callbacks = checkpoint_callback\n",
        ")\n"
      ],
      "metadata": {
        "id": "N_F-cuOx1kVj"
      },
      "execution_count": null,
      "outputs": []
    },
    {
      "cell_type": "code",
      "execution_count": null,
      "metadata": {
        "id": "Xe7RXH3N3CWU"
      },
      "outputs": [],
      "source": [
        "# RUN THIS CELL TO TEST YOUR MODEL. DO NOT MODIFY CONTENTS.\n",
        "# Test model by checking how well the model generalizes using the test set.\n",
        "loss, mae, mse = model.evaluate(test_dataset, test_labels, verbose=2)\n",
        "\n",
        "print(\"Testing set Mean Abs Error: {:5.2f} expenses\".format(mae))\n",
        "\n",
        "if mae < 3500:\n",
        "  print(\"You passed the challenge. Great job!\")\n",
        "else:\n",
        "  print(\"The Mean Abs Error must be less than 3500. Keep trying.\")\n",
        "\n",
        "# Plot predictions.\n",
        "test_predictions = model.predict(test_dataset).flatten()\n",
        "\n",
        "a = plt.axes(aspect='equal')\n",
        "plt.scatter(test_labels, test_predictions)\n",
        "plt.xlabel('True values (expenses)')\n",
        "plt.ylabel('Predictions (expenses)')\n",
        "lims = [0, 50000]\n",
        "plt.xlim(lims)\n",
        "plt.ylim(lims)\n",
        "_ = plt.plot(lims,lims)\n"
      ]
    }
  ],
  "metadata": {
    "colab": {
      "name": "fcc_predict_health_costs_with_regression.ipynb",
      "private_outputs": true,
      "provenance": [],
      "toc_visible": true
    },
    "kernelspec": {
      "display_name": "Python 3",
      "name": "python3"
    }
  },
  "nbformat": 4,
  "nbformat_minor": 0
}